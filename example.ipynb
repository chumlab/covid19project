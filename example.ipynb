{
 "cells": [
  {
   "cell_type": "code",
   "execution_count": 1,
   "metadata": {
    "scrolled": true
   },
   "outputs": [
    {
     "name": "stdout",
     "output_type": "stream",
     "text": [
      "Loading datasets...\n",
      "Done.\n",
      "Augmenting and cleaning data...\n",
      "Done.\n",
      "Inferring geoname IDs (this can take a while)...\n",
      "Done.\n"
     ]
    },
    {
     "data": {
      "text/html": [
       "<div>\n",
       "<style scoped>\n",
       "    .dataframe tbody tr th:only-of-type {\n",
       "        vertical-align: middle;\n",
       "    }\n",
       "\n",
       "    .dataframe tbody tr th {\n",
       "        vertical-align: top;\n",
       "    }\n",
       "\n",
       "    .dataframe thead th {\n",
       "        text-align: right;\n",
       "    }\n",
       "</style>\n",
       "<table border=\"1\" class=\"dataframe\">\n",
       "  <thead>\n",
       "    <tr style=\"text-align: right;\">\n",
       "      <th></th>\n",
       "      <th>tweet_user_location</th>\n",
       "      <th>tweet_id</th>\n",
       "      <th>tweet_user_location_copy</th>\n",
       "      <th>geonameid</th>\n",
       "    </tr>\n",
       "  </thead>\n",
       "  <tbody>\n",
       "    <tr>\n",
       "      <th>0</th>\n",
       "      <td>None</td>\n",
       "      <td>4994911</td>\n",
       "      <td>none</td>\n",
       "      <td>NaN</td>\n",
       "    </tr>\n",
       "    <tr>\n",
       "      <th>1</th>\n",
       "      <td>United States</td>\n",
       "      <td>190257</td>\n",
       "      <td>united states</td>\n",
       "      <td>6252001</td>\n",
       "    </tr>\n",
       "    <tr>\n",
       "      <th>2</th>\n",
       "      <td>India</td>\n",
       "      <td>97652</td>\n",
       "      <td>india</td>\n",
       "      <td>1269750</td>\n",
       "    </tr>\n",
       "    <tr>\n",
       "      <th>3</th>\n",
       "      <td>London, England</td>\n",
       "      <td>77542</td>\n",
       "      <td>london, england</td>\n",
       "      <td>2643743</td>\n",
       "    </tr>\n",
       "    <tr>\n",
       "      <th>4</th>\n",
       "      <td>USA</td>\n",
       "      <td>67336</td>\n",
       "      <td>usa</td>\n",
       "      <td>6252001</td>\n",
       "    </tr>\n",
       "    <tr>\n",
       "      <th>...</th>\n",
       "      <td>...</td>\n",
       "      <td>...</td>\n",
       "      <td>...</td>\n",
       "      <td>...</td>\n",
       "    </tr>\n",
       "    <tr>\n",
       "      <th>94</th>\n",
       "      <td>Bengaluru, India</td>\n",
       "      <td>12968</td>\n",
       "      <td>bengaluru, india</td>\n",
       "      <td>1277333</td>\n",
       "    </tr>\n",
       "    <tr>\n",
       "      <th>95</th>\n",
       "      <td>Hyderabad, India</td>\n",
       "      <td>12644</td>\n",
       "      <td>hyderabad, india</td>\n",
       "      <td>1269843</td>\n",
       "    </tr>\n",
       "    <tr>\n",
       "      <th>96</th>\n",
       "      <td>Ohio, USA</td>\n",
       "      <td>12375</td>\n",
       "      <td>ohio, usa</td>\n",
       "      <td>5165418</td>\n",
       "    </tr>\n",
       "    <tr>\n",
       "      <th>97</th>\n",
       "      <td>Virginia, USA</td>\n",
       "      <td>12300</td>\n",
       "      <td>virginia, usa</td>\n",
       "      <td>6254928</td>\n",
       "    </tr>\n",
       "    <tr>\n",
       "      <th>98</th>\n",
       "      <td>Guatemala</td>\n",
       "      <td>11834</td>\n",
       "      <td>guatemala</td>\n",
       "      <td>3595528</td>\n",
       "    </tr>\n",
       "  </tbody>\n",
       "</table>\n",
       "<p>99 rows × 4 columns</p>\n",
       "</div>"
      ],
      "text/plain": [
       "   tweet_user_location  tweet_id tweet_user_location_copy geonameid\n",
       "0                 None   4994911                     none       NaN\n",
       "1        United States    190257            united states   6252001\n",
       "2                India     97652                    india   1269750\n",
       "3      London, England     77542          london, england   2643743\n",
       "4                  USA     67336                      usa   6252001\n",
       "..                 ...       ...                      ...       ...\n",
       "94    Bengaluru, India     12968         bengaluru, india   1277333\n",
       "95    Hyderabad, India     12644         hyderabad, india   1269843\n",
       "96           Ohio, USA     12375                ohio, usa   5165418\n",
       "97       Virginia, USA     12300            virginia, usa   6254928\n",
       "98           Guatemala     11834                guatemala   3595528\n",
       "\n",
       "[99 rows x 4 columns]"
      ]
     },
     "execution_count": 1,
     "metadata": {},
     "output_type": "execute_result"
    }
   ],
   "source": [
    "import os\n",
    "from geoinfer import geoinfer\n",
    "\n",
    "# paths\n",
    "DATA_DIR = \"data\"\n",
    "INGEST_DIR = \"ingest\"\n",
    "\n",
    "# ingest\n",
    "TWEETS_FILE = os.path.join(INGEST_DIR, \"locations_sample.tsv\")\n",
    "\n",
    "# datasets\n",
    "CITIES_FILE = os.path.join(DATA_DIR, \"cities1000.txt\")\n",
    "COUNTRIES_FILE = os.path.join(DATA_DIR, \"countryInfo.txt\")\n",
    "ADMIN1_FILE = os.path.join(DATA_DIR, \"admin1CodesASCII.txt\")\n",
    "\n",
    "# infer geonameid!\n",
    "geo = geoinfer(tweets_path=TWEETS_FILE,\n",
    "               cities_path=CITIES_FILE,\n",
    "               countries_path=COUNTRIES_FILE,\n",
    "               admin1_path=ADMIN1_FILE)\n",
    "\n",
    "df = geo.run()\n",
    "df"
   ]
  },
  {
   "cell_type": "markdown",
   "metadata": {},
   "source": [
    "## Extra"
   ]
  },
  {
   "cell_type": "code",
   "execution_count": 2,
   "metadata": {},
   "outputs": [
    {
     "name": "stdout",
     "output_type": "stream",
     "text": [
      "100.000%\n"
     ]
    }
   ],
   "source": [
    "# Show completeness percentage (% of tweets that have a geonameid, exclusing the discard list)\n",
    "from geoinfer.utils import print_geonameid_completeness\n",
    "print_geonameid_completeness(df)"
   ]
  },
  {
   "cell_type": "code",
   "execution_count": 3,
   "metadata": {},
   "outputs": [
    {
     "name": "stdout",
     "output_type": "stream",
     "text": [
      "Number of NaNs: 0\n"
     ]
    },
    {
     "data": {
      "text/html": [
       "<div>\n",
       "<style scoped>\n",
       "    .dataframe tbody tr th:only-of-type {\n",
       "        vertical-align: middle;\n",
       "    }\n",
       "\n",
       "    .dataframe tbody tr th {\n",
       "        vertical-align: top;\n",
       "    }\n",
       "\n",
       "    .dataframe thead th {\n",
       "        text-align: right;\n",
       "    }\n",
       "</style>\n",
       "<table border=\"1\" class=\"dataframe\">\n",
       "  <thead>\n",
       "    <tr style=\"text-align: right;\">\n",
       "      <th></th>\n",
       "      <th>tweet_user_location</th>\n",
       "      <th>tweet_id</th>\n",
       "      <th>tweet_user_location_copy</th>\n",
       "      <th>geonameid</th>\n",
       "    </tr>\n",
       "  </thead>\n",
       "  <tbody>\n",
       "  </tbody>\n",
       "</table>\n",
       "</div>"
      ],
      "text/plain": [
       "Empty DataFrame\n",
       "Columns: [tweet_user_location, tweet_id, tweet_user_location_copy, geonameid]\n",
       "Index: []"
      ]
     },
     "execution_count": 3,
     "metadata": {},
     "output_type": "execute_result"
    }
   ],
   "source": [
    "# Print Pandas dataframe of rows that have a geonameid of NaN\n",
    "# (locations that weren't able to be inferred, excluding the discard list)\n",
    "from geoinfer.utils import show_nan\n",
    "show_nan(df)"
   ]
  },
  {
   "cell_type": "code",
   "execution_count": 4,
   "metadata": {},
   "outputs": [
    {
     "data": {
      "text/plain": [
       "'5368361'"
      ]
     },
     "execution_count": 4,
     "metadata": {},
     "output_type": "execute_result"
    }
   ],
   "source": [
    "# Run inferrance on a single location (list of locations)\n",
    "geo.infer_location('Los Angeles, CA')"
   ]
  },
  {
   "cell_type": "code",
   "execution_count": 5,
   "metadata": {},
   "outputs": [
    {
     "data": {
      "text/plain": [
       "'6251999'"
      ]
     },
     "execution_count": 5,
     "metadata": {},
     "output_type": "execute_result"
    }
   ],
   "source": [
    "geo.infer_location('Canada')"
   ]
  },
  {
   "cell_type": "code",
   "execution_count": 7,
   "metadata": {},
   "outputs": [
    {
     "data": {
      "text/plain": [
       "'6077243'"
      ]
     },
     "execution_count": 7,
     "metadata": {},
     "output_type": "execute_result"
    }
   ],
   "source": [
    "geo.infer_location('Montréal, QC, Canada')"
   ]
  }
 ],
 "metadata": {
  "kernelspec": {
   "display_name": "Python 3",
   "language": "python",
   "name": "python3"
  },
  "language_info": {
   "codemirror_mode": {
    "name": "ipython",
    "version": 3
   },
   "file_extension": ".py",
   "mimetype": "text/x-python",
   "name": "python",
   "nbconvert_exporter": "python",
   "pygments_lexer": "ipython3",
   "version": "3.8.3"
  }
 },
 "nbformat": 4,
 "nbformat_minor": 4
}
